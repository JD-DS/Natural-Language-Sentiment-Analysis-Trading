{
 "cells": [
  {
   "cell_type": "raw",
   "id": "8dffbf49-03ea-4fe3-b229-d2dbc55e4fe8",
   "metadata": {},
   "source": [
    "---\n",
    "title: \"Natural Language Processing:\n",
    "        Momentum Trading Derivatives Based On Sentiment Analyis\"\n",
    "format:\n",
    "  html:\n",
    "    code-fold: show\n",
    "jupyter: python3\n",
    "execute: \n",
    "  enabled: true\n",
    "---"
   ]
  },
  {
   "cell_type": "markdown",
   "id": "fbd41da0-b71d-4943-a920-ca8dc3244fe4",
   "metadata": {},
   "source": [
    "\n",
    "<span style=\"color:red\"># **Project In Progress: Updated 9/22/2022**</span>"
   ]
  },
  {
   "cell_type": "markdown",
   "id": "940dd724-39ed-47b4-814c-a602302f7a19",
   "metadata": {},
   "source": [
    "# Introduction"
   ]
  },
  {
   "cell_type": "markdown",
   "id": "710af5f8-cb28-49a3-a8af-dc855fad8835",
   "metadata": {},
   "source": [
    "\n",
    "## Motivation:\n",
    "\n",
    "Social media subgroups that focus on trading tend to be filled with poor analysis and a lack of due diligince. More sophisticated investors and traders tend to create groups on forumns and websites where there is a barrier to entry in order to ensure quality in discusion and analysis. Even with this reality, large sub groups on social media sites like reddit's wall street bets have, in the past, been able to move prices in the equity markets based on the sheer number of participants involnved in group think on the website. If we can gain insight using natural language processing to gauge sentiment on forums like this one, we may then be able to identify mis-priced derivatves based on our price and volume projections coupled with implied and historical volatitly on the contracts themselves. If we beleive that the sentiment will influence future prices a certain way, we may be able to momentum trade the derivatives contracts, opening positions on contracts that we belive to be mispriced based on our assumtions and projections of future volatility. \n",
    "\n",
    "This introduction will be updated as the project continues accordingly:\n",
    "\n",
    "1. Sentiment analysis of stock market related reddit forumns\n",
    "2. Derivatives pricing math (framework for pricing) and assumptions needed to determine 'mis-pricing'\n",
    "3. APIs used "
   ]
  },
  {
   "cell_type": "markdown",
   "id": "56cdf67e-4722-4037-bf85-b2f2e0506098",
   "metadata": {},
   "source": [
    "# Part 1: Sentiment Analysis "
   ]
  },
  {
   "cell_type": "markdown",
   "id": "0a46b341-2db0-48dc-adab-3ec466b22532",
   "metadata": {},
   "source": [
    "## Using the Reddit API to develope a sentiment analysis dashboard - Tickers mentioned and pos / neg sentiment "
   ]
  },
  {
   "cell_type": "code",
   "execution_count": 1,
   "id": "13b5fe7c-0a7a-4563-9f3c-1f11210beaaa",
   "metadata": {},
   "outputs": [],
   "source": [
    "# Laod libraries and packages\n",
    "\n",
    "import numpy as np\n",
    "import pandas as pd\n",
    "import requests\n",
    "import json\n",
    "import os\n",
    "import dotenv\n",
    "import sys\n",
    "from IPython import display\n",
    "import math\n",
    "from pprint import pprint\n",
    "import nltk\n",
    "import matplotlib.pyplot as plt\n",
    "import seaborn as sns\n",
    "sns.set(style='darkgrid', context='talk', palette='Dark2')\n",
    "sys.tracebacklimit = 0 # turn off the error tracebacks\n"
   ]
  },
  {
   "cell_type": "markdown",
   "id": "33d64724-241c-4756-8ebf-6e70614bdfd9",
   "metadata": {},
   "source": [
    "## Part 1a:\n",
    "### Connect to reddit API"
   ]
  },
  {
   "cell_type": "code",
   "execution_count": 2,
   "id": "ba98b5db-7bdc-4f73-bb30-61ea0639de67",
   "metadata": {},
   "outputs": [],
   "source": [
    "# API request relevent information \n",
    "\n",
    "# Create variables for keys and access token from .env file\n",
    "\n",
    "import dotenv\n",
    "\n",
    "dotenv.load_dotenv()\n",
    "\n",
    "secret = os.getenv('client_secret')\n",
    "\n",
    "client = os.getenv('client_id')\n",
    "\n",
    "user = os.getenv('user_agent')\n"
   ]
  },
  {
   "cell_type": "code",
   "execution_count": 3,
   "id": "924a1f6f-0d4f-4225-bb2b-35f3a7a4a32d",
   "metadata": {},
   "outputs": [],
   "source": [
    "# Request reddit API using PRAW \n",
    "\n",
    "import praw\n",
    "\n",
    "reddit = praw.Reddit(client_id = client,\n",
    "                     client_secret = secret,\n",
    "                     user_agent = user)\n",
    "\n",
    "headlines = []"
   ]
  },
  {
   "cell_type": "markdown",
   "id": "5e8b580a-1632-48cf-92e6-649a9d14a16d",
   "metadata": {},
   "source": [
    "## Part 1b:\n",
    "### Headlines: Gather headlines from stock market related subreddits - 'Wallstreetbets'.'TheWallStreet', 'TradeVol'"
   ]
  },
  {
   "cell_type": "code",
   "execution_count": 4,
   "id": "151b12c1-6579-4736-8d3f-c2e7557e9c7e",
   "metadata": {},
   "outputs": [],
   "source": [
    "def get_headlines(subreddit):\n",
    "    \n",
    "    \"\"\"\n",
    "    This function will request and download the appropriate headlines from the \n",
    "    neccesary API object from above\n",
    "    \n",
    "    Input:\n",
    "    \n",
    "    Subreddit name (str) to retrieve headlines from\n",
    "    \"\"\"\n",
    "    \n",
    "    global reddit\n",
    "    global headlines\n",
    "    \n",
    "    for submission in reddit.subreddit(subreddit).new(limit=None):\n",
    "        headlines.append(submission.title)\n",
    "        display.clear_output()\n",
    "        #print(len(headlines),'headlines found')\n",
    "    return headlines"
   ]
  },
  {
   "cell_type": "code",
   "execution_count": 5,
   "id": "74d3ff69-af38-4aaf-8e05-306a70715a9a",
   "metadata": {},
   "outputs": [],
   "source": [
    "# Call functions and save dataframes\n",
    "\n",
    "wsb = get_headlines('wallstreetbets')\n",
    "wst = get_headlines('TheWallStreet')\n",
    "tv = get_headlines('TradeVol')\n"
   ]
  },
  {
   "cell_type": "code",
   "execution_count": 6,
   "id": "48e4c765-0cc8-40a2-927f-6232c912725e",
   "metadata": {},
   "outputs": [],
   "source": [
    "# Download vader lexicon package from natural language toolkit used below\n",
    "\n",
    "#import nltk\n",
    "#nltk.download('vader_lexicon')\n"
   ]
  },
  {
   "cell_type": "code",
   "execution_count": 7,
   "id": "f6e502d1-48ee-4d42-8844-f96b21dd465f",
   "metadata": {},
   "outputs": [],
   "source": [
    "# Update vader lexicon dictionary with new words we want to look for\n",
    "# plus their sentiment scores\n",
    "\n",
    "from nltk.sentiment.vader import SentimentIntensityAnalyzer\n",
    "\n",
    "new_words = {\n",
    "    'call': 3.0,\n",
    "    'put': -3.0,\n",
    "    'bullish': 3.0,\n",
    "    'bearish': -3.0,\n",
    "    'bull': 3.0,\n",
    "    'bear': -3.0,\n",
    "    'puts': -3.0,\n",
    "    'calls': 3.0,\n",
    "    'moon': 3.0,\n",
    "    'crash': -3.0\n",
    "}\n",
    "\n",
    "SIA = SentimentIntensityAnalyzer()\n",
    "\n",
    "SIA.lexicon.update(new_words)"
   ]
  },
  {
   "cell_type": "code",
   "execution_count": 8,
   "id": "7694eadb-b553-4802-831e-16a659e325a1",
   "metadata": {},
   "outputs": [],
   "source": [
    "def get_sentiment(text):\n",
    "    \n",
    "    \"\"\"\n",
    "    This function will create a Sentiment Intensity Analyzer,\n",
    "    analyze the headlines or comments input, and generate a sentiment score\n",
    "    for each. The scores range from negative,neutral, to positive. The \n",
    "    compund output inicates a range from -1 to 1, or, extremely \n",
    "    negative to extremely positive. The thresholds for where these\n",
    "    compund sentiments are cut off will be set below\n",
    "    \n",
    "    \"\"\"\n",
    "    from nltk.sentiment.vader import SentimentIntensityAnalyzer as SIA\n",
    "    \n",
    "    sia = SIA()\n",
    "    results = []\n",
    "    \n",
    "    for line in text:\n",
    "        pol_score = sia.polarity_scores(line)\n",
    "        pol_score['headline'] = line\n",
    "        results.append(pol_score)\n",
    "        df = pd.DataFrame(results)\n",
    "        df['label'] = 0\n",
    "        df.loc[df['compound'] > 0.2, 'label'] = 1\n",
    "        df.loc[df['compound'] < -0.2, 'label'] = -1\n",
    "        df = df[['headline', 'label']]\n",
    "    return df\n",
    "    "
   ]
  },
  {
   "cell_type": "code",
   "execution_count": 9,
   "id": "e0900c9f-7369-4261-95e2-18873ef1a681",
   "metadata": {},
   "outputs": [],
   "source": [
    "\n",
    "# Run sentiment analysis on the headlines and save to dataframes\n",
    "\n",
    "wsb_df = get_sentiment(wsb)\n",
    "wst_df = get_sentiment(wst)\n",
    "tv_df = get_sentiment(tv)\n",
    "\n",
    "df_list = [wsb_df,wst_df,tv_df]"
   ]
  },
  {
   "cell_type": "code",
   "execution_count": 10,
   "id": "9b0c1320-7b6c-444a-9357-c143d3334f9f",
   "metadata": {},
   "outputs": [],
   "source": [
    "def check_headlines(df_list):\n",
    "    \n",
    "    \"\"\" This function will print pos and neg headlines \n",
    "    so we can check to make sure our SIA works properly\n",
    "    (development purposes only)\"\"\"\n",
    "    \n",
    "    for df in df_list:\n",
    "        print(\"Positive headlines:\\n\")\n",
    "        pprint(list(df[df['label'] == 1].headline)[:5], width=200)\n",
    "\n",
    "        print(\"\\nNegative headlines:\\n\")\n",
    "        pprint(list(df[df['label'] == -1].headline)[:5], width=200)\n",
    "        "
   ]
  },
  {
   "cell_type": "code",
   "execution_count": 11,
   "id": "1ed518af-851b-4ded-91bc-3b0ed0ff96ca",
   "metadata": {},
   "outputs": [],
   "source": [
    "# check_headlines(df_list)"
   ]
  },
  {
   "cell_type": "code",
   "execution_count": 14,
   "id": "ec16bc65-49c1-4d7a-9479-49b88cf25c87",
   "metadata": {},
   "outputs": [
    {
     "data": {
      "image/png": "[encoded data removed]",
      "text/plain": [
       "<Figure size 576x576 with 1 Axes>"
      ]
     },
     "metadata": {},
     "output_type": "display_data"
    },
    {
     "data": {
      "image/png": "[encoded data removed]",
      "text/plain": [
       "<Figure size 576x576 with 1 Axes>"
      ]
     },
     "metadata": {},
     "output_type": "display_data"
    },
    {
     "data": {
      "image/png": "[encoded data removed]",
      "text/plain": [
       "<Figure size 576x576 with 1 Axes>"
      ]
     },
     "metadata": {},
     "output_type": "display_data"
    }
   ],
   "source": [
    "# Plot overall sentiment \n",
    "\n",
    "for df in df_list:\n",
    "\n",
    "    fig, ax = plt.subplots(figsize=(8, 8))\n",
    "\n",
    "    counts = df.label.value_counts(normalize=True) * 100\n",
    "\n",
    "    sns.barplot(x=counts.index, y=counts, ax=ax)\n",
    "\n",
    "    ax.set_xticklabels(['Negative', 'Neutral', 'Positive'])\n",
    "    ax.set_ylabel(\"Percentage\")\n",
    "\n",
    "    plt.show()"
   ]
  },
  {
   "cell_type": "code",
   "execution_count": null,
   "id": "60eea2da-85af-45e1-b387-8de433ef5bad",
   "metadata": {},
   "outputs": [],
   "source": []
  },
  {
   "cell_type": "markdown",
   "id": "66a79bbb-de67-402f-8c19-243e9c82b490",
   "metadata": {},
   "source": [
    "We can see that the SIA is not performing optimally, we need to parse the hedlines and add words to the vader lexicon dictionary in order to properly identify community slang, and trading terms as either positive or negative. Based on the headlines available, many of the posts are not serious, are sarcastic, or unrelated to true market dynamics. We need to account for this going forward, and only include posts that have at least a semi serious discussion around them. This problem is specific to the wallstreetbets subredit, as it is known to be a less serious community. TheWallStreet and TradeVol will likely have higher quality data. Similarly, the amount of neutral ratings we have in our data is not reflective of true neitrality in the headlines. We also need to include comments on the posts into our analysis. "
   ]
  },
  {
   "cell_type": "markdown",
   "id": "71c76d5e-9d52-4512-ae26-66959874ab8d",
   "metadata": {},
   "source": [
    "## Part 1c:\n",
    "### Gather comments from certain posts and analyze sentiment"
   ]
  },
  {
   "cell_type": "code",
   "execution_count": null,
   "id": "cdc822d1-8e6e-47ca-8680-90ccb20ac194",
   "metadata": {},
   "outputs": [],
   "source": []
  },
  {
   "cell_type": "code",
   "execution_count": null,
   "id": "a48882d8-bc8f-4620-990c-41777639b62f",
   "metadata": {},
   "outputs": [],
   "source": []
  }
 ],
 "metadata": {
  "kernelspec": {
   "display_name": "Python 3 (ipykernel)",
   "language": "python",
   "name": "python3"
  },
  "language_info": {
   "codemirror_mode": {
    "name": "ipython",
    "version": 3
   },
   "file_extension": ".py",
   "mimetype": "text/x-python",
   "name": "python",
   "nbconvert_exporter": "python",
   "pygments_lexer": "ipython3",
   "version": "3.9.12"
  }
 },
 "nbformat": 4,
 "nbformat_minor": 5
}
